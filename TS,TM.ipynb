{
  "nbformat": 4,
  "nbformat_minor": 0,
  "metadata": {
    "colab": {
      "provenance": []
    },
    "kernelspec": {
      "name": "python3",
      "display_name": "Python 3"
    },
    "language_info": {
      "name": "python"
    }
  },
  "cells": [
    {
      "cell_type": "code",
      "execution_count": null,
      "metadata": {
        "id": "SPU24NVcKyBz",
        "colab": {
          "base_uri": "https://localhost:8080/"
        },
        "outputId": "4d3b5e86-a588-4e4b-f36c-c87ef78fc1c6"
      },
      "outputs": [
        {
          "output_type": "stream",
          "name": "stdout",
          "text": [
            "El area aproximada por  MTS de f1 es: 1.6\n",
            "El error relativo es:  0.19999999999999996\n",
            "El area aproximada por  MTM de f1 es: 1.9094003924504583\n",
            "El error relativo es:  0.04529980377477083\n",
            "El area aproximada por  MTS de f2 es: 0.25\n",
            "El error relativo es:  0.6294456766357552\n",
            "El area aproximada por  MTM de f2 es: 0.175\n",
            "El error relativo es:  0.6294456766357552\n",
            "El area aproximada por  MTS de f3 es: 0.0\n",
            "El error relativo es:  1.0\n",
            "El area aproximada por  MTM de f3 es: 0.2721982612879502\n",
            "El error relativo es:  0.26741774871366614\n",
            "El area aproximada por  MTS de f4 es: -34.7785186602645\n",
            "El error relativo es:  1.881319040048039\n",
            "El area aproximada por  MTM de f4 es: -17.38925933013225\n",
            "El error relativo es:  0.4406595200240194\n"
          ]
        }
      ],
      "source": [
        "#PRACTICA 1\n",
        "from math import *\n",
        "import numpy as np\n",
        "\n",
        "def f3(x):\n",
        "  return np.log(cos(x)+sin(x))\n",
        "def f1(x):\n",
        "  return x/(x**2 +9)**(1/2)\n",
        "def f2(x):\n",
        "  return (x**3)/(x**2 + 1)\n",
        "def f4(x):\n",
        "  return (np.exp(x))*cos(x)\n",
        "\n",
        "#METODO DEL TRAPECIO SIMPLE\n",
        "def MTS(x,y,f):\n",
        "  h=y-x\n",
        "  return (h/2)*(f(x)+f(y))\n",
        "\n",
        "\n",
        "#METODO DEL TRAPECIO MULTIPLE\n",
        "\n",
        "def MTM(x,y,n,f):\n",
        "  c=0\n",
        "  h=(y-x)/(n-1)\n",
        "  for r in range(1,n-1):\n",
        "     c+=f(x+r*(h))\n",
        "\n",
        "  return (h/2)*(f(x) + 2*c + f(y))\n",
        "\n",
        "def error(x,y):\n",
        "  return abs((y-x)/y)\n",
        "\n",
        "\n",
        "\n",
        "print(\"El area aproximada por  MTS de f1 es:\",MTS(0,4,f1))\n",
        "print(\"El error relativo es: \", error(MTS(0,4,f1),2))\n",
        "print(\"El area aproximada por  MTM de f1 es:\",MTM(0,4,3,f1))\n",
        "print(\"El error relativo es: \", error(MTM(0,4,3,f1),2))\n",
        "\n",
        "\n",
        "print(\"El area aproximada por  MTS de f2 es:\",MTS(0,1,f2))\n",
        "print(\"El error relativo es: \", error(MTS(0,1,f2),0.15342640972))\n",
        "print(\"El area aproximada por  MTM de f2 es:\",MTM(0,1,3,f2))\n",
        "print(\"El error relativo es: \", error(MTS(0,1,f2),0.15342640972))\n",
        "\n",
        "print(\"El area aproximada por  MTS de f3 es:\",MTS(0,pi/2,f3))\n",
        "print(\"El error relativo es: \", error(MTS(0,pi/2,f3),0.37156))\n",
        "print(\"El area aproximada por  MTM de f3 es:\",MTM(0,pi/2,3,f3))\n",
        "print(\"El error relativo es: \", error(MTM(0,pi/2,3,f3),0.37156))\n",
        "\n",
        "\n",
        "print(\"El area aproximada por  MTS de f4 es:\",MTS(0,pi,f4))\n",
        "print(\"El error relativo es: \", error(MTS(0,pi,f4),-12.070346316))\n",
        "print(\"El area aproximada por  MTM de f4 es:\",MTM(0,pi,3,f4))\n",
        "print(\"El error relativo es: \", error(MTM(0,pi,3,f4),-12.070346316))\n",
        "\n",
        "\n"
      ]
    }
  ]
}